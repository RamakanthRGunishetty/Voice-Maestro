{
  "nbformat": 4,
  "nbformat_minor": 0,
  "metadata": {
    "colab": {
      "provenance": [],
      "gpuType": "T4"
    },
    "kernelspec": {
      "name": "python3",
      "display_name": "Python 3"
    },
    "language_info": {
      "name": "python"
    },
    "accelerator": "GPU"
  },
  "cells": [
    {
      "cell_type": "code",
      "execution_count": null,
      "metadata": {
        "id": "VHTjP34h3Y_V"
      },
      "outputs": [],
      "source": [
        "import librosa\n",
        "import soundfile as sf\n",
        "\n",
        "# Dictionary mapping target instruments to pitch shift amounts\n",
        "pitch_shift_amounts = {\n",
        "    \"guitar\": -15,      # Example pitch shift amount for guitar (in semitones)\n",
        "    \"nadaswaram\": 34.648,\n",
        "    \"violin\": -7,\n",
        "    \"saxophone\": 20,\n",
        "    \"flute\": 25,\n",
        "    \"banjo\":12.5,\n",
        "    \"drums\": -25\n",
        "}\n",
        "\n",
        "# Function to convert audio into a different instrument\n",
        "def convert_to_instrument(input_audio, target_instrument):\n",
        "    # Load input audio\n",
        "    y, sr = librosa.load(input_audio)\n",
        "\n",
        "    # Perform pitch shifting based on the target instrument\n",
        "    if target_instrument in pitch_shift_amounts:\n",
        "        pitch_shift_amount = pitch_shift_amounts[target_instrument]\n",
        "        y_shifted = librosa.effects.pitch_shift(y, sr=sr, n_steps=pitch_shift_amount)\n",
        "    else:\n",
        "        print(\"Target instrument not found in pitch shift amounts dictionary.\")\n",
        "        return\n",
        "\n",
        "    # Save the synthesized audio\n",
        "    output_file = f\"output_{target_instrument}.wav\"\n",
        "    sf.write(output_file, y_shifted, sr)\n",
        "\n",
        "    print(\"Audio converted to\", target_instrument, \"and saved as\", output_file)\n",
        "\n",
        "# Example usage\n",
        "input_audio = \"/content/1tune.wav\"  # Path to the input audio file\n",
        "target_instrument = \"banjo\"               # Target instrument (e.g., \"guitar\", \"keyboard\")\n",
        "\n",
        "convert_to_instrument(input_audio, target_instrument)\n"
      ]
    }
  ]
}